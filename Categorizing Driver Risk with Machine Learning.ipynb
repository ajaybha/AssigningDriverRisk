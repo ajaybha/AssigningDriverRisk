{
 "cells": [
  {
   "cell_type": "markdown",
   "metadata": {},
   "source": [
    "# Categorizing Driver Risk with Machine Learning\n",
    "\n",
    "Usage-based insurance, also known as pay as you drive, is a type of automobile insurance whereby the costs of motor insurance are dependent upon type of vehicle used, measured against time, distance, behavior and place.\n",
    "\n",
    "One important requirement of UBI is the ability to quickly quantify or classify the behavior of drivers based on the telemetry data gathered during their recent drives. Insurance companies need this kind of classification to quickly feed the driving pattern (safe or reckless) through into user’s premiums.\n",
    "\n",
    "This case study describes a project with Toyota where we have constructed a machine learning web service that takes summary telemetry data as the input and assigns a risk rating to the drive.\n",
    "\n",
    "Getting good labeled data is always a challenge, when building a machine learning model for illustrative purposes we have reduced the problem to categorizing drives into one of four risk categories (0-3), representing excellent, good, fair, and high risk drivers. This allows us to use a supervised learning model which is a good fit for this problem.\n",
    "\n",
    "For an insurance company, this example can be expanded with data they already have to provide a more complex set of risk classes. Insurance companies will keep the history of these drivers, so they could easily define “excellent” or “risky” according to the accident and insurance rates on different drivers. \n",
    "\n",
    "We don’t have such kind of history data, so we have to manually label the data based on our own understanding of safe driving. We believe the classification result will be more reliable if this model is built by insurance companies. \n",
    "\n",
    "Here are some of our findings during manual labelling. These observations are not definitive just called out to provide context for others that might manually label driving data.\n",
    "\n",
    "1.\tWe defined 4 different categories for drivers:\n",
    "    1. High \n",
    "    2. Fair \n",
    "    3. Good \n",
    "    4. Low\n",
    "2.\tThe main factors that determine the risk rating are Acceleration, Lane Changes, Turns and Braking.\n",
    "3.\tAcceleration and Brake values have positive correlation.\n",
    "4.\tWe do have touch or voice data to test our hypotheses around interaction/distraction contributing to risk.\n",
    "\n",
    "Below you can see the entire machine learning workflow, and run it locally or in your Azure Subscription. To run this in your azure subscription you'll need to create a Azure Machine Learning Workspace (note the workspace id), and retrieve the authorization token for that workspace. These tasks are done via the [Azure Portal](https://portal.azure.com/)."
   ]
  },
  {
   "cell_type": "markdown",
   "metadata": {},
   "source": [
    "## Setup and Initialization"
   ]
  },
  {
   "cell_type": "code",
   "execution_count": 9,
   "metadata": {
    "collapsed": false
   },
   "outputs": [],
   "source": [
    "#\n",
    "# Here we're setting variables so we don't have to keep entering these \n",
    "# strings. We can also now hide these values once, when we publish/share \n",
    "# this notebook.\n",
    "#\n",
    "import uuid\n",
    "\n",
    "workspace_id=''\n",
    "authorization_token=''\n",
    "\n",
    "# This is set here once so that any re-deployments of the web service below\n",
    "# *replace* the existing web service, instead of creating a new one for \n",
    "# each deployment.\n",
    "\n",
    "service_id = str(uuid.uuid4())"
   ]
  },
  {
   "cell_type": "code",
   "execution_count": 10,
   "metadata": {
    "collapsed": false
   },
   "outputs": [],
   "source": [
    "#\n",
    "# This initializes the Azure Machine Learning Python Client, found:\n",
    "# https://github.com/Azure/Azure-MachineLearning-ClientLibrary-Python\n",
    "#\n",
    "import pandas\n",
    "from azureml import Workspace\n",
    "\n",
    "ws = Workspace(\n",
    "    workspace_id=workspace_id,\n",
    "    authorization_token=authorization_token,\n",
    "    endpoint='https://studioapi.azureml.net'\n",
    ")\n",
    "\n",
    "# In my workspace I have the data as a data set, I retrieve it for local \n",
    "# processing.\n",
    "\n",
    "# This is how you read the data from a local file\n",
    "frame = pandas.read_csv(\"DriverRisk.csv\")\n",
    "\n",
    "# This is how you read a dataset from the Azure Machine Learning Workspace and Convert it to a Pandas DataFrame.\n",
    "#ds = ws.datasets['DriverRisk.csv']\n",
    "#frame = ds.to_dataframe()"
   ]
  },
  {
   "cell_type": "markdown",
   "metadata": {},
   "source": [
    "## Preparing the Data"
   ]
  },
  {
   "cell_type": "code",
   "execution_count": 11,
   "metadata": {
    "collapsed": false,
    "scrolled": true
   },
   "outputs": [
    {
     "data": {
      "text/html": [
       "<div>\n",
       "<table border=\"1\" class=\"dataframe\">\n",
       "  <thead>\n",
       "    <tr style=\"text-align: right;\">\n",
       "      <th></th>\n",
       "      <th>TER</th>\n",
       "      <th>TERS</th>\n",
       "      <th>SER</th>\n",
       "      <th>SERS</th>\n",
       "      <th>EHBR</th>\n",
       "      <th>EHBRS</th>\n",
       "      <th>SHBR</th>\n",
       "      <th>SHBRS</th>\n",
       "      <th>ACC</th>\n",
       "      <th>ACCS</th>\n",
       "      <th>...</th>\n",
       "      <th>TURN</th>\n",
       "      <th>TURNS</th>\n",
       "      <th>SHAKE</th>\n",
       "      <th>SHAKES</th>\n",
       "      <th>LANEC</th>\n",
       "      <th>LANECS</th>\n",
       "      <th>USER</th>\n",
       "      <th>TIME</th>\n",
       "      <th>SESSION</th>\n",
       "      <th>CATEGORY</th>\n",
       "    </tr>\n",
       "  </thead>\n",
       "  <tbody>\n",
       "    <tr>\n",
       "      <th>0</th>\n",
       "      <td>14.88</td>\n",
       "      <td>0.067572</td>\n",
       "      <td>0.00</td>\n",
       "      <td>0.00000</td>\n",
       "      <td>0</td>\n",
       "      <td>0</td>\n",
       "      <td>72.29</td>\n",
       "      <td>-0.257627</td>\n",
       "      <td>17.17</td>\n",
       "      <td>0.242583</td>\n",
       "      <td>...</td>\n",
       "      <td>0.45</td>\n",
       "      <td>0.45</td>\n",
       "      <td>1.07</td>\n",
       "      <td>0.022617</td>\n",
       "      <td>4.29</td>\n",
       "      <td>0.417315</td>\n",
       "      <td>aferman</td>\n",
       "      <td>8/23/2013 2:37</td>\n",
       "      <td>FD91E5CE-1CA5-7BD5-E557-23FFB9317899_8.txt</td>\n",
       "      <td>1</td>\n",
       "    </tr>\n",
       "    <tr>\n",
       "      <th>1</th>\n",
       "      <td>3.50</td>\n",
       "      <td>0.015894</td>\n",
       "      <td>0.00</td>\n",
       "      <td>0.00000</td>\n",
       "      <td>0</td>\n",
       "      <td>0</td>\n",
       "      <td>22.15</td>\n",
       "      <td>-0.078938</td>\n",
       "      <td>11.49</td>\n",
       "      <td>0.162334</td>\n",
       "      <td>...</td>\n",
       "      <td>0.44</td>\n",
       "      <td>0.44</td>\n",
       "      <td>5.07</td>\n",
       "      <td>0.107166</td>\n",
       "      <td>2.03</td>\n",
       "      <td>0.197471</td>\n",
       "      <td>zhnan</td>\n",
       "      <td>4/23/2013 14:29</td>\n",
       "      <td>9DFCB353-CCCD-6285-F50A-5937B2D6460E_0.txt</td>\n",
       "      <td>3</td>\n",
       "    </tr>\n",
       "    <tr>\n",
       "      <th>2</th>\n",
       "      <td>0.00</td>\n",
       "      <td>0.000000</td>\n",
       "      <td>0.00</td>\n",
       "      <td>0.00000</td>\n",
       "      <td>0</td>\n",
       "      <td>0</td>\n",
       "      <td>1.62</td>\n",
       "      <td>-0.005773</td>\n",
       "      <td>2.50</td>\n",
       "      <td>0.035321</td>\n",
       "      <td>...</td>\n",
       "      <td>0.91</td>\n",
       "      <td>0.91</td>\n",
       "      <td>0.00</td>\n",
       "      <td>0.000000</td>\n",
       "      <td>2.50</td>\n",
       "      <td>0.243191</td>\n",
       "      <td>zhnan</td>\n",
       "      <td>5/5/2013 13:09</td>\n",
       "      <td>D967750B-529B-7CFF-4C53-08B0FC1A4F63_6.txt</td>\n",
       "      <td>3</td>\n",
       "    </tr>\n",
       "    <tr>\n",
       "      <th>3</th>\n",
       "      <td>8.25</td>\n",
       "      <td>0.037464</td>\n",
       "      <td>8.25</td>\n",
       "      <td>-0.02956</td>\n",
       "      <td>0</td>\n",
       "      <td>0</td>\n",
       "      <td>29.70</td>\n",
       "      <td>-0.105845</td>\n",
       "      <td>5.19</td>\n",
       "      <td>0.073326</td>\n",
       "      <td>...</td>\n",
       "      <td>0.33</td>\n",
       "      <td>0.33</td>\n",
       "      <td>6.92</td>\n",
       "      <td>0.146269</td>\n",
       "      <td>3.46</td>\n",
       "      <td>0.336576</td>\n",
       "      <td>zhnan</td>\n",
       "      <td>3/16/2013 0:24</td>\n",
       "      <td>D838407B-31DE-44EB-DBC1-A0B6D9068C2F_0.txt</td>\n",
       "      <td>3</td>\n",
       "    </tr>\n",
       "    <tr>\n",
       "      <th>4</th>\n",
       "      <td>0.00</td>\n",
       "      <td>0.000000</td>\n",
       "      <td>0.00</td>\n",
       "      <td>0.00000</td>\n",
       "      <td>0</td>\n",
       "      <td>0</td>\n",
       "      <td>0.00</td>\n",
       "      <td>0.000000</td>\n",
       "      <td>13.05</td>\n",
       "      <td>0.184374</td>\n",
       "      <td>...</td>\n",
       "      <td>0.22</td>\n",
       "      <td>0.22</td>\n",
       "      <td>0.87</td>\n",
       "      <td>0.018389</td>\n",
       "      <td>3.48</td>\n",
       "      <td>0.338521</td>\n",
       "      <td>zhnan</td>\n",
       "      <td>2/27/2013 13:00</td>\n",
       "      <td>C5765F7B-4A45-5748-C426-F13E8683EF3A_0.txt</td>\n",
       "      <td>3</td>\n",
       "    </tr>\n",
       "  </tbody>\n",
       "</table>\n",
       "<p>5 rows × 22 columns</p>\n",
       "</div>"
      ],
      "text/plain": [
       "     TER      TERS   SER     SERS  EHBR  EHBRS   SHBR     SHBRS    ACC  \\\n",
       "0  14.88  0.067572  0.00  0.00000     0      0  72.29 -0.257627  17.17   \n",
       "1   3.50  0.015894  0.00  0.00000     0      0  22.15 -0.078938  11.49   \n",
       "2   0.00  0.000000  0.00  0.00000     0      0   1.62 -0.005773   2.50   \n",
       "3   8.25  0.037464  8.25 -0.02956     0      0  29.70 -0.105845   5.19   \n",
       "4   0.00  0.000000  0.00  0.00000     0      0   0.00  0.000000  13.05   \n",
       "\n",
       "       ACCS   ...     TURN  TURNS  SHAKE    SHAKES  LANEC    LANECS     USER  \\\n",
       "0  0.242583   ...     0.45   0.45   1.07  0.022617   4.29  0.417315  aferman   \n",
       "1  0.162334   ...     0.44   0.44   5.07  0.107166   2.03  0.197471    zhnan   \n",
       "2  0.035321   ...     0.91   0.91   0.00  0.000000   2.50  0.243191    zhnan   \n",
       "3  0.073326   ...     0.33   0.33   6.92  0.146269   3.46  0.336576    zhnan   \n",
       "4  0.184374   ...     0.22   0.22   0.87  0.018389   3.48  0.338521    zhnan   \n",
       "\n",
       "              TIME                                     SESSION CATEGORY  \n",
       "0   8/23/2013 2:37  FD91E5CE-1CA5-7BD5-E557-23FFB9317899_8.txt        1  \n",
       "1  4/23/2013 14:29  9DFCB353-CCCD-6285-F50A-5937B2D6460E_0.txt        3  \n",
       "2   5/5/2013 13:09  D967750B-529B-7CFF-4C53-08B0FC1A4F63_6.txt        3  \n",
       "3   3/16/2013 0:24  D838407B-31DE-44EB-DBC1-A0B6D9068C2F_0.txt        3  \n",
       "4  2/27/2013 13:00  C5765F7B-4A45-5748-C426-F13E8683EF3A_0.txt        3  \n",
       "\n",
       "[5 rows x 22 columns]"
      ]
     },
     "execution_count": 11,
     "metadata": {},
     "output_type": "execute_result"
    }
   ],
   "source": [
    "# Inspect the first few rows of data.\n",
    "frame.head()"
   ]
  },
  {
   "cell_type": "markdown",
   "metadata": {},
   "source": [
    "There are many features in the original dataset, however there aren't that many that are determinants of the risk category. After doing separate experiments to identify the strongest determinant features we identify ACCS, LANECS, TURNS and BRKS as the key features to include.\n",
    "\n",
    "Here we are selecting a set of columns from the entire list. This subset has been chosen because the correlation of the input featurese against risk category is above an arbitrary threshold. The entire list of raw features is:"
   ]
  },
  {
   "cell_type": "code",
   "execution_count": 12,
   "metadata": {
    "collapsed": false
   },
   "outputs": [
    {
     "data": {
      "text/plain": [
       "Index([u'TER', u'TERS', u'SER', u'SERS', u'EHBR', u'EHBRS', u'SHBR', u'SHBRS',\n",
       "       u'ACC', u'ACCS', u'BRK', u'BRKS', u'TURN', u'TURNS', u'SHAKE',\n",
       "       u'SHAKES', u'LANEC', u'LANECS', u'USER', u'TIME', u'SESSION',\n",
       "       u'CATEGORY'],\n",
       "      dtype='object')"
      ]
     },
     "execution_count": 12,
     "metadata": {},
     "output_type": "execute_result"
    }
   ],
   "source": [
    "# Enumerate the existing column headings.\n",
    "frame.columns"
   ]
  },
  {
   "cell_type": "markdown",
   "metadata": {},
   "source": [
    "From those we select: ACCS,LANECS,TURNS,BRKS\n",
    "Note: the the difference between TER and TERS is the TERS column (like all the columns with the extra S) is normalized data."
   ]
  },
  {
   "cell_type": "code",
   "execution_count": 13,
   "metadata": {
    "collapsed": true
   },
   "outputs": [],
   "source": [
    "# Pick just the major determinants for the model\n",
    "# TODO: Show the component analysis that drives this selection.\n",
    "feature_cols = ['ACCS', 'LANECS', 'TURNS', 'BRKS']"
   ]
  },
  {
   "cell_type": "code",
   "execution_count": 14,
   "metadata": {
    "collapsed": false
   },
   "outputs": [],
   "source": [
    "# Process the basic data into feature vector data and labeled category\n",
    "# data. We use numpy and sklearn tools to massage the data.\n",
    "\n",
    "import numpy as np\n",
    "from sklearn.preprocessing import label_binarize\n",
    "\n",
    "# Pull out features we care about and category labels\n",
    "X = frame[feature_cols]\n",
    "y_raw = frame.CATEGORY\n",
    "\n",
    "# This creates four classes from the raw data\n",
    "y = label_binarize(y_raw, classes=np.unique(y_raw))\n",
    "n_classes = y.shape[1]"
   ]
  },
  {
   "cell_type": "code",
   "execution_count": 15,
   "metadata": {
    "collapsed": false
   },
   "outputs": [],
   "source": [
    "# We split the (limited amount of) data we have into training and test data.\n",
    "\n",
    "import numpy as np\n",
    "from sklearn.cross_validation import train_test_split\n",
    "\n",
    "# Split data into train and test\n",
    "random_state = np.random.RandomState(0)\n",
    "X_train, X_test, y_train, y_test = train_test_split(X, y, \n",
    "                                                    test_size=.6, \n",
    "                                                    random_state=random_state)"
   ]
  },
  {
   "cell_type": "markdown",
   "metadata": {},
   "source": [
    "## Building and Training the Model"
   ]
  },
  {
   "cell_type": "code",
   "execution_count": 16,
   "metadata": {
    "collapsed": false
   },
   "outputs": [],
   "source": [
    "# Here we actually instantiate and train the multi-classs classifier.\n",
    "\n",
    "from sklearn import svm\n",
    "from sklearn.multiclass import OneVsRestClassifier\n",
    "\n",
    "# Build the one vs all classifier (and test it)\n",
    "classifier = OneVsRestClassifier(svm.SVC(kernel='linear', probability=True, \n",
    "                                         random_state=random_state))"
   ]
  },
  {
   "cell_type": "markdown",
   "metadata": {},
   "source": [
    "## Quick Performance Inspection"
   ]
  },
  {
   "cell_type": "code",
   "execution_count": 17,
   "metadata": {
    "collapsed": true
   },
   "outputs": [],
   "source": [
    "# Here we generate labels for the test data to compare against the actual\n",
    "# labels.\n",
    "y_score = classifier.fit(X_train, y_train).decision_function(X_test)"
   ]
  },
  {
   "cell_type": "code",
   "execution_count": 18,
   "metadata": {
    "collapsed": false
   },
   "outputs": [
    {
     "name": "stdout",
     "output_type": "stream",
     "text": [
      "Mean Absolute Error: 1.424722\n",
      "Root Mean Squared Error: 1.594763\n",
      "Relative Absolute Error: 2.878017\n",
      "Relative Squared Error: 3.947494\n"
     ]
    }
   ],
   "source": [
    "# We compute some basic statistics about the classifiers performance\n",
    "# using the test data.\n",
    "\n",
    "import numpy as np\n",
    "obs = y_score\n",
    "pred = y_test\n",
    "\n",
    "mae = np.mean(abs(pred-obs))\n",
    "rmse = np.sqrt(np.mean((pred-obs)**2))\n",
    "rae = np.mean(abs(pred-obs))/np.mean(abs(obs-np.mean(obs)))\n",
    "rse = np.mean((pred-obs)**2)/np.mean((obs-np.mean(obs))**2)\n",
    "\n",
    "print(\"Mean Absolute Error: \" + str(round(mae,6)))\n",
    "print(\"Root Mean Squared Error: \" + str(round(rmse,6)))\n",
    "print(\"Relative Absolute Error: \" + str(round(rae,6)))\n",
    "print(\"Relative Squared Error: \" + str(round(rse,6)))"
   ]
  },
  {
   "cell_type": "markdown",
   "metadata": {},
   "source": [
    "## A Deeper Look at Precision and Recall"
   ]
  },
  {
   "cell_type": "code",
   "execution_count": 19,
   "metadata": {
    "collapsed": false
   },
   "outputs": [],
   "source": [
    "# This shows how to generate the precision and recall curves.\n",
    "# We generate these curves for each category.\n",
    "\n",
    "from sklearn.metrics import precision_recall_curve\n",
    "from sklearn.metrics import average_precision_score\n",
    "\n",
    "# Compute Precision-Recall and plot curve\n",
    "precision = dict()\n",
    "recall = dict()\n",
    "average_precision = dict()\n",
    "for i in range(n_classes):\n",
    "    precision[i], recall[i], _ = precision_recall_curve(y_test[:, i],\n",
    "                                                        y_score[:, i])\n",
    "    average_precision[i] = average_precision_score(y_test[:, i], y_score[:, i])\n",
    "\n",
    "# Compute micro-average ROC curve and ROC area\n",
    "precision[\"micro\"], recall[\"micro\"], _ = precision_recall_curve(y_test.ravel(),\n",
    "    y_score.ravel())\n",
    "average_precision[\"micro\"] = average_precision_score(y_test, y_score,\n",
    "                                                     average=\"micro\")"
   ]
  },
  {
   "cell_type": "code",
   "execution_count": 25,
   "metadata": {
    "collapsed": false
   },
   "outputs": [
    {
     "data": {
      "image/png": "[encoded data removed]",
      "text/plain": [
       "<matplotlib.figure.Figure at 0x1d24a400>"
      ]
     },
     "metadata": {},
     "output_type": "display_data"
    },
    {
     "data": {
      "image/png": "[encoded data removed]",
      "text/plain": [
       "<matplotlib.figure.Figure at 0x1da89748>"
      ]
     },
     "metadata": {},
     "output_type": "display_data"
    }
   ],
   "source": [
    "# Plot the precision and recall curves.\n",
    "%matplotlib inline\n",
    "\n",
    "import matplotlib\n",
    "import numpy as np\n",
    "import matplotlib.pyplot as plt\n",
    "\n",
    "# Plot Precision-Recall curve\n",
    "plt.clf()\n",
    "plt.plot(recall[0], precision[0], label='Precision-Recall curve')\n",
    "plt.xlabel('Recall')\n",
    "plt.ylabel('Precision')\n",
    "plt.ylim([0.0, 1.05])\n",
    "plt.xlim([0.0, 1.0])\n",
    "plt.title('Precision-Recall example: AUC={0:0.2f}'.format(average_precision[0]))\n",
    "plt.legend(loc=\"lower left\")\n",
    "plt.show()\n",
    "\n",
    "# Plot Precision-Recall curve for each class\n",
    "plt.clf()\n",
    "plt.plot(recall[\"micro\"], precision[\"micro\"],\n",
    "         label='micro-average Precision-recall curve (area = {0:0.2f})'\n",
    "               ''.format(average_precision[\"micro\"]))\n",
    "for i in range(n_classes):\n",
    "    plt.plot(recall[i], precision[i],\n",
    "             label='Precision-recall curve of class {0} (area = {1:0.2f})'\n",
    "                   ''.format(i, average_precision[i]))\n",
    "\n",
    "plt.xlim([0.0, 1.0])\n",
    "plt.ylim([0.0, 1.05])\n",
    "plt.xlabel('Recall')\n",
    "plt.ylabel('Precision')\n",
    "plt.title('Extension of Precision-Recall curve to multi-class')\n",
    "plt.legend(loc=\"lower right\")\n",
    "plt.show()"
   ]
  },
  {
   "cell_type": "markdown",
   "metadata": {},
   "source": [
    "## Deploy the Model as an Azure Machine Learning Web Service"
   ]
  },
  {
   "cell_type": "code",
   "execution_count": null,
   "metadata": {
    "collapsed": false
   },
   "outputs": [],
   "source": [
    "# This is how to deploy the model to Azure Machine Learning as a web\n",
    "# service. By doing this, others can invoke the model with their telemetry\n",
    "# data to get a risk rating for their data.\n",
    "#\n",
    "# This webservice is exactly the same as a Azure Machine Learning web\n",
    "# service deployed from the AzureML Studio -- all the same examples and\n",
    "# and sample code are available.\n",
    "\n",
    "import uuid\n",
    "from azureml import services\n",
    "\n",
    "@services.publish(workspace_id, authorization_token)\n",
    "# This is where we set the service_id, created above. Not including this\n",
    "# line would result in a new service being created for each invocation.\n",
    "@services.service_id(service_id)\n",
    "@services.types(accs=float, lanecs=float, turns=float, brks=float)\n",
    "@services.returns(float)\n",
    "def demoservice(accs, lanecs, turns, brks):\n",
    "    # predict the risk rating category\n",
    "    return classifier.predict([accs, lanecs, turns, brks])"
   ]
  },
  {
   "cell_type": "markdown",
   "metadata": {},
   "source": [
    "## Use Azure Machine Learning Web Service Version"
   ]
  },
  {
   "cell_type": "code",
   "execution_count": null,
   "metadata": {
    "collapsed": false
   },
   "outputs": [],
   "source": [
    "# Here's a simple test showing how to use the deployed web service.\n",
    "test_row = 0\n",
    "obs = y_raw.iloc[test_row]\n",
    "feature_vec = X.iloc[test_row]\n",
    "result = demoservice(feature_vec.ACCS, feature_vec.LANECS, \n",
    "                     feature_vec.TURNS, feature_vec.BRKS)\n",
    "result"
   ]
  },
  {
   "cell_type": "markdown",
   "metadata": {},
   "source": [
    "## Opportunities for Reuse\n",
    "\n",
    "Since this notebook lives in github, there are at least two reusable components:\n",
    "\n",
    "1. The Machine Learning Model, Data, and Services can be instantiated by anyone in their subscription and they can create a risk rating service. This in fact makes it easier for us to build a machine learning solution with a partner and give it to them to continue to use after our collaboration has ended. This addresses one particular challenge the Azure Machine Learning Studio doesn't quite address (yet).\n",
    "\n",
    "2. The Jupyter notebook can be modified and reused as a means to explore machine learning algorithms locally (on a local laptop), then when ready can be \"productionized\" into Azure."
   ]
  }
 ],
 "metadata": {
  "kernelspec": {
   "display_name": "Python 2",
   "language": "python",
   "name": "python2"
  },
  "language_info": {
   "codemirror_mode": {
    "name": "ipython",
    "version": 2
   },
   "file_extension": ".py",
   "mimetype": "text/x-python",
   "name": "python",
   "nbconvert_exporter": "python",
   "pygments_lexer": "ipython2",
   "version": "2.7.11"
  }
 },
 "nbformat": 4,
 "nbformat_minor": 0
}
